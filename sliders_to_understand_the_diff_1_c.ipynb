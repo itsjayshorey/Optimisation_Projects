{
 "cells": [
  {
   "cell_type": "code",
   "execution_count": 96,
   "metadata": {},
   "outputs": [],
   "source": [
    "import numpy as np \n",
    "import matplotlib.pyplot as plt "
   ]
  },
  {
   "cell_type": "code",
   "execution_count": 97,
   "metadata": {},
   "outputs": [],
   "source": [
    "def Ackley_function_in_2d(x):\n",
    "    a=20\n",
    "    b=0.2\n",
    "    c=2*np.pi\n",
    "    d=2\n",
    "    return (-a*(np.exp(-b*(np.sqrt((x[0]*x[0]+x[1]*x[1])/d))))-np.exp((np.cos(c*x[0])+np.cos(c*x[1]))/d)+a+np.exp(1))"
   ]
  },
  {
   "cell_type": "code",
   "execution_count": 98,
   "metadata": {},
   "outputs": [],
   "source": [
    "import numdifftools as nd"
   ]
  },
  {
   "cell_type": "code",
   "execution_count": 99,
   "metadata": {},
   "outputs": [],
   "source": [
    "Ackley_function_in_2d_gradient=nd.Gradient(Ackley_function_in_2d)"
   ]
  },
  {
   "cell_type": "code",
   "execution_count": null,
   "metadata": {},
   "outputs": [],
   "source": []
  },
  {
   "cell_type": "code",
   "execution_count": 100,
   "metadata": {},
   "outputs": [],
   "source": [
    "x_cp=0\n",
    "y_cp=0\n",
    "def gradient_descent_with_backtracking(Ackley_function_in_2d,Ackley_function_in_2d_gradient,current_point,alpha=0.1,beta=0.1,rho=0.1,max_iteration=1000,tol=1e-6):\n",
    "    current_point=[x_cp,y_cp]\n",
    "    iteration_count=0\n",
    "    collection=[]\n",
    "    while iteration_count<max_iteration:\n",
    "        gradient=Ackley_function_in_2d_gradient(current_point)\n",
    "        step_size=alpha\n",
    "        while Ackley_function_in_2d(current_point-step_size*gradient)>Ackley_function_in_2d(current_point)+rho*step_size*np.dot(gradient,gradient):\n",
    "            step_size*=beta\n",
    "        current_point= current_point-step_size*gradient\n",
    "        collection.append(current_point)\n",
    "        if np.linalg.norm(gradient)<tol:\n",
    "            break\n",
    "        iteration_count+=1\n",
    "    return collection"
   ]
  },
  {
   "cell_type": "code",
   "execution_count": 101,
   "metadata": {},
   "outputs": [],
   "source": [
    "def gradient_descent(Ackley_function_in_2d,Ackley_function_in_2d_gradient,current_point,steps=50,learning_rate=.1):\n",
    "    path=[]\n",
    "    x_path1=[]\n",
    "    y_path1=[]\n",
    "    X_not=[current_point[0],current_point[1]]\n",
    "    for el in range(50):\n",
    "        Gradi__=Ackley_function_in_2d_gradient(X_not)\n",
    "        #print(Gradi)\n",
    "    #print(Gradi__)\n",
    "        X_point,Y_point = current_point[0]-learning_rate*Gradi__[0],current_point[1]-learning_rate * Gradi__[1]\n",
    "        X_not=[X_point,Y_point]\n",
    "        current_point =(X_point,Y_point,Ackley_function_in_2d(X_not))\n",
    "        x_path1.append(current_point[0])\n",
    "        y_path1.append(current_point[1])\n",
    "\n",
    "    #path.append(z_path3)\n",
    "    return x_path1,y_path1\n",
    "\n"
   ]
  },
  {
   "cell_type": "code",
   "execution_count": 102,
   "metadata": {},
   "outputs": [],
   "source": [
    "def plot_grad_descent(xnot,ynot,steps=50,learning_ratei=0.01):\n",
    "    x =np.arange(-1.5,1.5,0.005)\n",
    "    current_point=[xnot,ynot]\n",
    "    #Plot the function in 3d space by default code\n",
    "    y = np.arange(-1.5,1.5,0.005)\n",
    "    x_3d,y_3d =np.meshgrid(x,y)\n",
    "    z_3d = Ackley_function_in_2d([x_3d,y_3d])\n",
    "    plt.contour(x_3d, y_3d, Ackley_function_in_2d([x_3d,y_3d]),edgecolor='Black',zorder=0)\n",
    "    pt,pt2=gradient_descent(Ackley_function_in_2d,Ackley_function_in_2d_gradient,current_point,steps=50,learning_rate=learning_ratei)\n",
    "    plt.plot(pt,pt2,zorder=1)\n",
    "    plt.show()"
   ]
  },
  {
   "cell_type": "code",
   "execution_count": 103,
   "metadata": {},
   "outputs": [],
   "source": [
    "x_cp=0\n",
    "y_cp=0\n",
    "def gradient_descent_with_backtracking(x_cp,y_cp,alpha=0.1,beta=0.1,rho=0.1,max_iteration=50,tol=1e-6):\n",
    "    current_point=[x_cp,y_cp]\n",
    "    iteration_count=0\n",
    "    collection=[]\n",
    "    x =np.arange(-1.5,1.5,0.005)\n",
    "    #Plot the function in 3d space by default code\n",
    "    y = np.arange(-1.5,1.5,0.005)\n",
    "    x_3d,y_3d =np.meshgrid(x,y)\n",
    "    z_3d = Ackley_function_in_2d([x_3d,y_3d])\n",
    "    plt.contour(x_3d, y_3d, Ackley_function_in_2d([x_3d,y_3d]),edgecolor='Black',zorder=0)\n",
    "    while iteration_count<max_iteration:\n",
    "        gradient=Ackley_function_in_2d_gradient(current_point)\n",
    "        step_size=alpha\n",
    "        while Ackley_function_in_2d(current_point-step_size*gradient)>Ackley_function_in_2d(current_point)+rho*step_size*np.dot(gradient,gradient):\n",
    "            step_size*=beta\n",
    "        current_point= current_point-step_size*gradient\n",
    "        collection.append(current_point)\n",
    "        if np.linalg.norm(gradient)<tol:\n",
    "            break\n",
    "        iteration_count+=1\n",
    "    a=[]\n",
    "    b=[]\n",
    "    for el in collection:\n",
    "        a.append(el[0])\n",
    "        b.append(el[1])\n",
    "    plt.plot(a,b)"
   ]
  },
  {
   "cell_type": "code",
   "execution_count": null,
   "metadata": {},
   "outputs": [],
   "source": []
  },
  {
   "cell_type": "code",
   "execution_count": 104,
   "metadata": {},
   "outputs": [
    {
     "data": {
      "application/vnd.jupyter.widget-view+json": {
       "model_id": "10902d67e50145efb1081c1407ad8e7b",
       "version_major": 2,
       "version_minor": 0
      },
      "text/plain": [
       "interactive(children=(FloatSlider(value=0.72, description='x', max=1.0, min=0.1, step=0.01), FloatSlider(value…"
      ]
     },
     "metadata": {},
     "output_type": "display_data"
    },
    {
     "data": {
      "text/plain": [
       "<function __main__.plot_grad_descent(xnot, ynot, steps=50, learning_ratei=0.01)>"
      ]
     },
     "execution_count": 104,
     "metadata": {},
     "output_type": "execute_result"
    }
   ],
   "source": [
    "\n",
    "from ipywidgets import interact, widgets\n",
    "\n",
    "learn_rate = widgets.FloatSlider(value=.01, min=0, max=1.0, step=0.001, description='Learning_ratei')\n",
    "step_size = widgets.FloatSlider(value=50, min=0, max=1000.0, step=0.01, description='steps')\n",
    "initial_point1 = widgets.FloatSlider(value=.72, min=0.1, max=1.0, step=0.01, description='x')\n",
    "initial_point2 = widgets.FloatSlider(value=.61, min=0.1, max=1.0, step=0.01, description='y')\n",
    "interact(plot_grad_descent,learning_ratei =learn_rate,xnot=initial_point1,ynot=initial_point2,steps=step_size)\n"
   ]
  },
  {
   "cell_type": "code",
   "execution_count": 105,
   "metadata": {},
   "outputs": [
    {
     "data": {
      "application/vnd.jupyter.widget-view+json": {
       "model_id": "1f3156cbd4644a87ba351d597e6b372d",
       "version_major": 2,
       "version_minor": 0
      },
      "text/plain": [
       "interactive(children=(FloatSlider(value=0.72, description='x', max=1.0, min=0.1, step=0.01), FloatSlider(value…"
      ]
     },
     "metadata": {},
     "output_type": "display_data"
    },
    {
     "data": {
      "text/plain": [
       "<function __main__.gradient_descent_with_backtracking(x_cp, y_cp, alpha=0.1, beta=0.1, rho=0.1, max_iteration=50, tol=1e-06)>"
      ]
     },
     "execution_count": 105,
     "metadata": {},
     "output_type": "execute_result"
    }
   ],
   "source": [
    "from ipywidgets import interact, widgets\n",
    "\n",
    "learn_rate = widgets.FloatSlider(value=.01, min=0, max=1.0, step=0.001, description='Learning_ratei')\n",
    "No_of_steps = widgets.FloatSlider(value=50, min=0, max=1000.0, step=1, description='steps')\n",
    "initial_point1 = widgets.FloatSlider(value=.72, min=0.1, max=1.0, step=0.01, description='x')\n",
    "initial_point2 = widgets.FloatSlider(value=.61, min=0.1, max=1.0, step=0.01, description='y')\n",
    "interact(gradient_descent_with_backtracking,alpha =learn_rate,x_cp=initial_point1,y_cp=initial_point2,max_iteration=No_of_steps)"
   ]
  }
 ],
 "metadata": {
  "kernelspec": {
   "display_name": "Python 3",
   "language": "python",
   "name": "python3"
  },
  "language_info": {
   "codemirror_mode": {
    "name": "ipython",
    "version": 3
   },
   "file_extension": ".py",
   "mimetype": "text/x-python",
   "name": "python",
   "nbconvert_exporter": "python",
   "pygments_lexer": "ipython3",
   "version": "3.11.4"
  }
 },
 "nbformat": 4,
 "nbformat_minor": 2
}
