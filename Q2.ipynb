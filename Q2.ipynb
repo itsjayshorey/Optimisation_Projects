{
 "cells": [
  {
   "cell_type": "code",
   "execution_count": 150,
   "metadata": {},
   "outputs": [],
   "source": [
    "import numpy as np \n",
    "import matplotlib.pyplot as plt "
   ]
  },
  {
   "cell_type": "code",
   "execution_count": 151,
   "metadata": {},
   "outputs": [],
   "source": [
    "def well_conditioned(x):\n",
    "    return ((x[0]-3)*(x[0]-3)+(x[1]-1)*(x[1]-1))"
   ]
  },
  {
   "cell_type": "code",
   "execution_count": null,
   "metadata": {},
   "outputs": [],
   "source": []
  },
  {
   "cell_type": "code",
   "execution_count": 152,
   "metadata": {},
   "outputs": [],
   "source": [
    "import numdifftools as nd"
   ]
  },
  {
   "cell_type": "code",
   "execution_count": 153,
   "metadata": {},
   "outputs": [],
   "source": [
    "well_conditioned_gradient=nd.Gradient(well_conditioned)"
   ]
  },
  {
   "cell_type": "code",
   "execution_count": null,
   "metadata": {},
   "outputs": [],
   "source": []
  },
  {
   "cell_type": "code",
   "execution_count": 154,
   "metadata": {},
   "outputs": [],
   "source": [
    "x_cp=0\n",
    "y_cp=0\n",
    "def gradient_descent_with_backtracking(well_conditioned,well_conditioned_gradient,current_point,alpha=0.1,beta=0.1,rho=0.1,max_iteration=1000,tol=1e-6):\n",
    "    current_point=[x_cp,y_cp]\n",
    "    iteration_count=0\n",
    "    collection=[]\n",
    "    while iteration_count<max_iteration:\n",
    "        gradient=well_conditioned_gradient(current_point)\n",
    "        step_size=alpha\n",
    "        while well_conditioned(current_point-step_size*gradient)>well_conditioned(current_point)+rho*step_size*np.dot(gradient,gradient):\n",
    "            step_size*=beta\n",
    "        current_point= current_point-step_size*gradient\n",
    "        collection.append(current_point)\n",
    "        if np.linalg.norm(gradient)<tol:\n",
    "            break\n",
    "        iteration_count+=1\n",
    "    return collection"
   ]
  },
  {
   "cell_type": "code",
   "execution_count": 155,
   "metadata": {},
   "outputs": [],
   "source": [
    "def gradient_descent(well_conditioned,well_conditioned_gradient,current_point,steps=50,learning_rate=.1):\n",
    "    path=[]\n",
    "    x_path1=[]\n",
    "    y_path1=[]\n",
    "    X_not=[current_point[0],current_point[1]]\n",
    "    for el in range(50):\n",
    "        Gradi__=well_conditioned_gradient(X_not)\n",
    "        #print(Gradi)\n",
    "    #print(Gradi__)\n",
    "        X_point,Y_point = current_point[0]-learning_rate*Gradi__[0],current_point[1]-learning_rate * Gradi__[1]\n",
    "        X_not=[X_point,Y_point]\n",
    "        current_point =(X_point,Y_point,well_conditioned(X_not))\n",
    "        x_path1.append(current_point[0])\n",
    "        y_path1.append(current_point[1])\n",
    "\n",
    "    #path.append(z_path3)\n",
    "    return x_path1,y_path1\n",
    "\n"
   ]
  },
  {
   "cell_type": "code",
   "execution_count": 156,
   "metadata": {},
   "outputs": [],
   "source": [
    "def plot_grad_descent(xnot,ynot,steps=50,learning_ratei=0.01):\n",
    "    x =np.arange(-80,80,0.05)\n",
    "    current_point=[xnot,ynot]\n",
    "    #Plot the function in 3d space by default code\n",
    "    y = np.arange(-80,80,0.05)\n",
    "    x_3d,y_3d =np.meshgrid(x,y)\n",
    "    z_3d = well_conditioned([x_3d,y_3d])\n",
    "    plt.contour(x_3d, y_3d, well_conditioned([x_3d,y_3d]),edgecolor='Black',zorder=0)\n",
    "    pt,pt2=gradient_descent(well_conditioned,well_conditioned_gradient,current_point,steps=50,learning_rate=learning_ratei)\n",
    "    plt.plot(pt,pt2,zorder=1)\n",
    "    plt.scatter(pt,pt2,zorder=1)\n",
    "    plt.scatter(pt[0],pt2[0])\n",
    "    plt.scatter(pt[-1],pt2[-1],zorder=1,color=\"black\")\n",
    "    plt.show()"
   ]
  },
  {
   "cell_type": "code",
   "execution_count": 157,
   "metadata": {},
   "outputs": [
    {
     "data": {
      "application/vnd.jupyter.widget-view+json": {
       "model_id": "3a4858db3c574654801126e66f81cbac",
       "version_major": 2,
       "version_minor": 0
      },
      "text/plain": [
       "interactive(children=(FloatSlider(value=72.0, description='xnot', step=1.0), FloatSlider(value=61.0, descripti…"
      ]
     },
     "metadata": {},
     "output_type": "display_data"
    },
    {
     "data": {
      "text/plain": [
       "<function __main__.plot_grad_descent(xnot, ynot, steps=50, learning_ratei=0.01)>"
      ]
     },
     "execution_count": 157,
     "metadata": {},
     "output_type": "execute_result"
    }
   ],
   "source": [
    "\n",
    "from ipywidgets import interact, widgets\n",
    "\n",
    "freq_slider = widgets.FloatSlider(value=.8, min=0, max=10, step=0.001, description='Learning_ratei')\n",
    "freq_slider1 = widgets.FloatSlider(value=50, min=0, max=1000.0, step=0.01, description='steps')\n",
    "freq_slider2 = widgets.FloatSlider(value=72, min=0, max=100, step=1, description='xnot')\n",
    "freq_slider3 = widgets.FloatSlider(value=61, min=0, max=100, step=1, description='ynot')\n",
    "interact(plot_grad_descent,learning_ratei =freq_slider,xnot=freq_slider2,ynot=freq_slider3,steps=freq_slider1)\n"
   ]
  }
 ],
 "metadata": {
  "kernelspec": {
   "display_name": "Python 3",
   "language": "python",
   "name": "python3"
  },
  "language_info": {
   "codemirror_mode": {
    "name": "ipython",
    "version": 3
   },
   "file_extension": ".py",
   "mimetype": "text/x-python",
   "name": "python",
   "nbconvert_exporter": "python",
   "pygments_lexer": "ipython3",
   "version": "3.11.4"
  }
 },
 "nbformat": 4,
 "nbformat_minor": 2
}
